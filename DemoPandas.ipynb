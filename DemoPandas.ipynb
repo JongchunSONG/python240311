{
 "cells": [
  {
   "cell_type": "code",
   "execution_count": 8,
   "metadata": {},
   "outputs": [
    {
     "name": "stdout",
     "output_type": "stream",
     "text": [
      "2024-03-01    100\n",
      "2024-03-02    200\n",
      "2024-03-03    300\n",
      "2024-03-04    400\n",
      "2024-03-05    500\n",
      "dtype: int64\n",
      "<class 'pandas.core.series.Series'>\n"
     ]
    },
    {
     "data": {
      "text/plain": [
       "100"
      ]
     },
     "execution_count": 8,
     "metadata": {},
     "output_type": "execute_result"
    }
   ],
   "source": [
    "# DemoPandas.ipynb\n",
    "\n",
    "from pandas import Series, DataFrame\n",
    "import pandas as pd\n",
    "\n",
    "#시리즈 객체를 생성\n",
    "multi = Series([100,200,300,400,500],\n",
    "    index=[\"2024-03-01\", \"2024-03-02\",\"2024-03-03\",\"2024-03-04\",\"2024-03-05\"])\n",
    "print(multi)\n",
    "print(type(multi))\n",
    "multi[\"2024-03-01\"]"
   ]
  },
  {
   "cell_type": "code",
   "execution_count": 11,
   "metadata": {},
   "outputs": [
    {
     "name": "stdout",
     "output_type": "stream",
     "text": [
      "0    0\n",
      "1    1\n",
      "2    2\n",
      "3    3\n",
      "4    4\n",
      "dtype: int32\n",
      "<class 'pandas.core.series.Series'>\n"
     ]
    }
   ],
   "source": [
    "import numpy as np\n",
    "\n",
    "data = np.arange(5)\n",
    "s = Series(data)\n",
    "print(s)\n",
    "print(type(s))"
   ]
  },
  {
   "cell_type": "code",
   "execution_count": 12,
   "metadata": {},
   "outputs": [
    {
     "data": {
      "text/plain": [
       "메로나     1000\n",
       "구구콘     2000\n",
       "하겐다즈    3000\n",
       "dtype: int64"
      ]
     },
     "execution_count": 12,
     "metadata": {},
     "output_type": "execute_result"
    }
   ],
   "source": [
    "data = [1000,2000,3000]\n",
    "s = Series(data)\n",
    "s.index = [\"메로나\",\"구구콘\",\"하겐다즈\"]\n",
    "s"
   ]
  },
  {
   "cell_type": "code",
   "execution_count": 13,
   "metadata": {},
   "outputs": [
    {
     "data": {
      "text/plain": [
       "메로나     1000\n",
       "구구콘     2000\n",
       "하겐다즈    3000\n",
       "dtype: int64"
      ]
     },
     "execution_count": 13,
     "metadata": {},
     "output_type": "execute_result"
    }
   ],
   "source": [
    "data = [1000,2000,3000]\n",
    "index = [\"메로나\",\"구구콘\",\"하겐다즈\"]\n",
    "b = Series(data, index)\n",
    "b"
   ]
  },
  {
   "cell_type": "code",
   "execution_count": 14,
   "metadata": {},
   "outputs": [
    {
     "data": {
      "text/plain": [
       "1000     메로나\n",
       "2000     구구콘\n",
       "3000    하겐다즈\n",
       "dtype: object"
      ]
     },
     "execution_count": 14,
     "metadata": {},
     "output_type": "execute_result"
    }
   ],
   "source": [
    "data = [1000,2000,3000]\n",
    "index = [\"메로나\",\"구구콘\",\"하겐다즈\"]\n",
    "c = Series(index, data)\n",
    "c"
   ]
  },
  {
   "cell_type": "code",
   "execution_count": 21,
   "metadata": {},
   "outputs": [
    {
     "name": "stdout",
     "output_type": "stream",
     "text": [
      "메로나     1000.0\n",
      "비비빅        NaN\n",
      "하겐다즈    3000.0\n",
      "dtype: float64\n",
      "메로나     1000.0\n",
      "비비빅        0.0\n",
      "하겐다즈    3000.0\n",
      "dtype: float64\n"
     ]
    }
   ],
   "source": [
    "data = [1000,2000,3000]\n",
    "index = [\"메로나\",\"구구콘\",\"하겐다즈\"]\n",
    "d = Series(data, index)\n",
    "d1 =d.reindex([\"메로나\",\"비비빅\",\"하겐다즈\"])\n",
    "print(d1)\n",
    "print(d1.fillna(0))"
   ]
  },
  {
   "cell_type": "code",
   "execution_count": 41,
   "metadata": {},
   "outputs": [
    {
     "name": "stdout",
     "output_type": "stream",
     "text": [
      "   foreigner  org  sratio  sprice  private\n",
      "0          1   10     100       1       10\n",
      "1          2   20     200       2       20\n",
      "2          3    3     300       3       30\n",
      "3          4   40     400       4       40\n",
      "4          5   50     500       5       60\n",
      "5          6   60     600       6       50\n",
      "      foreigner  private  org  sratio  sprice\n",
      "0301          1       10   10     100       1\n",
      "0302          2       20   20     200       2\n",
      "0303          3       30    3     300       3\n",
      "0304          4       40   40     400       4\n",
      "0305          5       60   50     500       5\n",
      "0306          6       50   60     600       6\n",
      "           0301  0302  0303  0304  0305  0306\n",
      "foreigner     1     2     3     4     5     6\n",
      "private      10    20    30    40    60    50\n",
      "org          10    20     3    40    50    60\n",
      "sratio      100   200   300   400   500   600\n",
      "sprice        1     2     3     4     5     6\n"
     ]
    }
   ],
   "source": [
    "#주식데이터를 딕셔너리에 담기 \n",
    "data = {\n",
    "    \"foreigner\":[1,2,3,4,5,6],\n",
    "    \"org\":[10,20,3,40,50,60],\n",
    "    \"sratio\":[100,200,300,400,500,600],\n",
    "    \"sprice\":[1,2,3,4,5,6],\n",
    "    \"private\":[10,20,30,40,60,50]\n",
    "}\n",
    "#데이터프레임으로 로딩\n",
    "frame = DataFrame(data)\n",
    "fData = DataFrame(data, columns=[\"foreigner\",\"org\",\"sratio\", \"sprice\",\"private\"])\n",
    "print(fData)\n",
    "fData1 = DataFrame(data, columns=[\"foreigner\",\"private\",\"org\",\"sratio\", \"sprice\"],index = [\"0301\",\"0302\",\"0303\",\"0304\",\"0305\",\"0306\"])\n",
    "print(fData1)\n",
    "print(fData1.T)\n"
   ]
  },
  {
   "cell_type": "code",
   "execution_count": 48,
   "metadata": {},
   "outputs": [
    {
     "name": "stdout",
     "output_type": "stream",
     "text": [
      "0301    100\n",
      "0302    200\n",
      "0303    300\n",
      "0304    400\n",
      "0305    500\n",
      "0306    600\n",
      "Name: sratio, dtype: int64\n",
      "foreigner      3\n",
      "private       30\n",
      "org            3\n",
      "sratio       300\n",
      "sprice         3\n",
      "Name: 0303, dtype: int64\n",
      "3\n",
      "3\n"
     ]
    }
   ],
   "source": [
    "print(fData1[\"sratio\"])\n",
    "print(fData1.loc[\"0303\"])\n",
    "print(fData1[\"foreigner\"][\"0303\"])\n",
    "print(fData1.loc[\"0303\"][\"foreigner\"])"
   ]
  },
  {
   "cell_type": "code",
   "execution_count": 49,
   "metadata": {},
   "outputs": [
    {
     "data": {
      "text/html": [
       "<div>\n",
       "<style scoped>\n",
       "    .dataframe tbody tr th:only-of-type {\n",
       "        vertical-align: middle;\n",
       "    }\n",
       "\n",
       "    .dataframe tbody tr th {\n",
       "        vertical-align: top;\n",
       "    }\n",
       "\n",
       "    .dataframe thead th {\n",
       "        text-align: right;\n",
       "    }\n",
       "</style>\n",
       "<table border=\"1\" class=\"dataframe\">\n",
       "  <thead>\n",
       "    <tr style=\"text-align: right;\">\n",
       "      <th></th>\n",
       "      <th>종목코드</th>\n",
       "      <th>종목명</th>\n",
       "      <th>현재가</th>\n",
       "    </tr>\n",
       "  </thead>\n",
       "  <tbody>\n",
       "    <tr>\n",
       "      <th>0</th>\n",
       "      <td>037730</td>\n",
       "      <td>3R</td>\n",
       "      <td>1520</td>\n",
       "    </tr>\n",
       "    <tr>\n",
       "      <th>1</th>\n",
       "      <td>036360</td>\n",
       "      <td>3soft</td>\n",
       "      <td>18820</td>\n",
       "    </tr>\n",
       "    <tr>\n",
       "      <th>2</th>\n",
       "      <td>005792</td>\n",
       "      <td>Acts</td>\n",
       "      <td>1550</td>\n",
       "    </tr>\n",
       "  </tbody>\n",
       "</table>\n",
       "</div>"
      ],
      "text/plain": [
       "     종목코드    종목명    현재가\n",
       "0  037730     3R   1520\n",
       "1  036360  3soft  18820\n",
       "2  005792   Acts   1550"
      ]
     },
     "execution_count": 49,
     "metadata": {},
     "output_type": "execute_result"
    }
   ],
   "source": [
    "#데이터 생성(딕셔너리 이용)\n",
    "data = {\n",
    "    \"종목코드\":[\"037730\",\"036360\",\"005792\"],\n",
    "    \"종목명\":[\"3R\",\"3soft\",\"Acts\"],\n",
    "    \"현재가\":[1520, 18820, 1550]\n",
    "}\n",
    "df = DataFrame(data)\n",
    "df"
   ]
  },
  {
   "cell_type": "code",
   "execution_count": 54,
   "metadata": {},
   "outputs": [
    {
     "data": {
      "text/html": [
       "<div>\n",
       "<style scoped>\n",
       "    .dataframe tbody tr th:only-of-type {\n",
       "        vertical-align: middle;\n",
       "    }\n",
       "\n",
       "    .dataframe tbody tr th {\n",
       "        vertical-align: top;\n",
       "    }\n",
       "\n",
       "    .dataframe thead th {\n",
       "        text-align: right;\n",
       "    }\n",
       "</style>\n",
       "<table border=\"1\" class=\"dataframe\">\n",
       "  <thead>\n",
       "    <tr style=\"text-align: right;\">\n",
       "      <th></th>\n",
       "      <th>종목코드</th>\n",
       "      <th>종목명</th>\n",
       "      <th>현재가</th>\n",
       "    </tr>\n",
       "  </thead>\n",
       "  <tbody>\n",
       "    <tr>\n",
       "      <th>0</th>\n",
       "      <td>037730</td>\n",
       "      <td>3R</td>\n",
       "      <td>1520</td>\n",
       "    </tr>\n",
       "    <tr>\n",
       "      <th>1</th>\n",
       "      <td>036360</td>\n",
       "      <td>3soft</td>\n",
       "      <td>18820</td>\n",
       "    </tr>\n",
       "    <tr>\n",
       "      <th>2</th>\n",
       "      <td>005792</td>\n",
       "      <td>Acts</td>\n",
       "      <td>1550</td>\n",
       "    </tr>\n",
       "  </tbody>\n",
       "</table>\n",
       "</div>"
      ],
      "text/plain": [
       "     종목코드    종목명    현재가\n",
       "0  037730     3R   1520\n",
       "1  036360  3soft  18820\n",
       "2  005792   Acts   1550"
      ]
     },
     "execution_count": 54,
     "metadata": {},
     "output_type": "execute_result"
    }
   ],
   "source": [
    "#데이터 생성(list 이용)\n",
    "data = [\n",
    "    [\"037730\",\"3R\",1520],\n",
    "    [\"036360\",\"3soft\", 18820],\n",
    "    [\"005792\",\"Acts\", 1550]\n",
    "]\n",
    "#컬럼명\n",
    "columns = [\"종목코드\", \"종목명\", \"현재가\"]\n",
    "\n",
    "#키워드 인자(매개변수명 기술)\n",
    "df = DataFrame(data=data, columns=columns)\n",
    "df"
   ]
  },
  {
   "cell_type": "code",
   "execution_count": 56,
   "metadata": {},
   "outputs": [
    {
     "name": "stdout",
     "output_type": "stream",
     "text": [
      "종목코드\n",
      "037730     1520\n",
      "036360    18820\n",
      "005792     1550\n",
      "Name: 현재가, dtype: int64\n",
      "종목명    3soft\n",
      "현재가    18820\n",
      "Name: 036360, dtype: object\n"
     ]
    }
   ],
   "source": [
    "#데이터 생성(list 이용)\n",
    "data = [\n",
    "    [\"037730\",\"3R\",1520],\n",
    "    [\"036360\",\"3soft\", 18820],\n",
    "    [\"005792\",\"Acts\", 1550]\n",
    "]\n",
    "#컬럼명\n",
    "columns = [\"종목코드\", \"종목명\", \"현재가\"]\n",
    "\n",
    "#키워드 인자(매개변수명 기술)\n",
    "df = DataFrame(data=data, columns=columns)\n",
    "#색인 컬럼을 지정\n",
    "df = df.set_index(\"종목코드\")\n",
    "#컬럼 슬라이싱p\n",
    "print(df[\"현재가\"])\n",
    "print(df.loc[\"036360\"])"
   ]
  },
  {
   "cell_type": "code",
   "execution_count": null,
   "metadata": {},
   "outputs": [],
   "source": []
  }
 ],
 "metadata": {
  "kernelspec": {
   "display_name": "Python 3",
   "language": "python",
   "name": "python3"
  },
  "language_info": {
   "codemirror_mode": {
    "name": "ipython",
    "version": 3
   },
   "file_extension": ".py",
   "mimetype": "text/x-python",
   "name": "python",
   "nbconvert_exporter": "python",
   "pygments_lexer": "ipython3",
   "version": "3.10.9"
  }
 },
 "nbformat": 4,
 "nbformat_minor": 2
}
